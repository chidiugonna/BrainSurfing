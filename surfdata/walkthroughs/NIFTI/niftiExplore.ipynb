{
 "cells": [
  {
   "cell_type": "code",
   "execution_count": 1,
   "metadata": {},
   "outputs": [],
   "source": [
    "import numpy\n",
    "import sys\n",
    "import nibabel\n",
    "import gzip\n",
    "import math\n",
    "import struct"
   ]
  },
  {
   "cell_type": "code",
   "execution_count": 2,
   "metadata": {},
   "outputs": [],
   "source": [
    "# obtain endian-ness\n",
    "endian=sys.byteorder"
   ]
  },
  {
   "cell_type": "markdown",
   "metadata": {},
   "source": [
    "#### parseBytes\n",
    "Helper function to read NIFTI-1 or NIFTI-2 file and return contents as a numpy array of the right type. "
   ]
  },
  {
   "cell_type": "code",
   "execution_count": 36,
   "metadata": {},
   "outputs": [],
   "source": [
    "def parseBytes(bytevals, numtype='float', endian=sys.byteorder):\n",
    "    \n",
    "    \n",
    "    if type(bytevals) is int:\n",
    "        return bytevals\n",
    "    else:\n",
    "        if numtype == 'double':\n",
    "            numread = 8\n",
    "            strucode='d'\n",
    "        elif numtype == 'int64':\n",
    "            numread = 8\n",
    "        elif numtype == 'float':\n",
    "            numread = 4\n",
    "            strucode='f'\n",
    "        elif numtype == 'int':\n",
    "            numread = 4\n",
    "        elif numtype == 'short':\n",
    "            numread = 2\n",
    "        elif numtype == 'char':\n",
    "            numread = 1\n",
    "        else:\n",
    "            return 'numtype not recognized'\n",
    "\n",
    "        \n",
    "        idxrange=int(math.ceil((len(bytevals)+1)/numread))-1\n",
    "        returnarray=numpy.zeros(idxrange)\n",
    "        for idx in range (0,idxrange):\n",
    "            \n",
    "            \n",
    "            if numtype == 'float' or numtype == 'double':\n",
    "                aa= bytearray(bytevals[idx*numread:(idx+1)*numread])\n",
    "                if endian=='little':\n",
    "                    returnvalue = list(struct.unpack('<'+strucode, aa))[0]\n",
    "                else:\n",
    "                    returnvalue = list(struct.unpack('>'+strucode, aa))[0]\n",
    "                returnarray[idx]=returnvalue\n",
    "                \n",
    "            elif numtype == 'int' or numtype == 'short' or numtype == 'int64':\n",
    "                returnvalue = int.from_bytes(bytevals[idx*numread:(idx+1)*numread],endian)\n",
    "                returnarray[idx]=returnvalue\n",
    "                \n",
    "            elif numtype == 'char':\n",
    "                returnarray[idx]=bytevals[idx]\n",
    "                \n",
    "        if numtype == 'double':\n",
    "            return returnarray.astype(numpy.float64)\n",
    "        if numtype == 'int64':\n",
    "            return returnarray.astype(numpy.int64)\n",
    "        if numtype == 'float':\n",
    "            return returnarray.astype(numpy.float32)\n",
    "        if numtype == 'int':\n",
    "            return returnarray.astype(numpy.int32)\n",
    "        if numtype == 'short':\n",
    "            return returnarray.astype(numpy.int16)\n",
    "        if numtype == 'char':\n",
    "            return returnarray.astype(numpy.int8)\n",
    "       \n",
    "       \n",
    "    "
   ]
  },
  {
   "cell_type": "markdown",
   "metadata": {},
   "source": [
    "## Read Nifti-1 file\n",
    "\n"
   ]
  },
  {
   "cell_type": "code",
   "execution_count": 18,
   "metadata": {},
   "outputs": [],
   "source": [
    "IMAGE='/home/chidi/repos/CFN/DATA/Nifti/sub-219/ses-itbs/anat/sub-219_ses-itbs_T1w.nii.gz'"
   ]
  },
  {
   "cell_type": "code",
   "execution_count": 19,
   "metadata": {},
   "outputs": [],
   "source": [
    "f= gzip.open(IMAGE, 'rb')\n",
    "file_header= f.read(352)\n",
    "f.close()"
   ]
  },
  {
   "cell_type": "code",
   "execution_count": 37,
   "metadata": {},
   "outputs": [],
   "source": [
    "sizeof_hdr \t\t= parseBytes( file_header[0:4]\t\t,\tnumtype='int'\t)\t\n",
    "data_type \t\t= parseBytes( file_header[4:14]\t\t,\tnumtype='char'\t)\t\n",
    "db_name \t\t= parseBytes( file_header[14:32]\t,\tnumtype='char'\t)\t\n",
    "extents \t\t= parseBytes( file_header[32:36]\t,\tnumtype='int'\t)\t\n",
    "session_error\t= parseBytes( file_header[36:38]\t,\tnumtype='short' )\t\n",
    "regular \t\t= parseBytes( file_header[38:39]\t,\tnumtype='char'\t)\t\n",
    "dim_info \t\t= parseBytes( file_header[39:40]\t,\tnumtype='char'\t)\t \n",
    "dim \t\t\t= parseBytes( file_header[40:56]\t,\tnumtype='short' )\t  \n",
    "intent_p1 \t\t= parseBytes( file_header[56:60]\t,\tnumtype='float' )\t \n",
    "intent_p2 \t\t= parseBytes( file_header[60:64]\t,\tnumtype='float' )\t \n",
    "intent_p3 \t\t= parseBytes( file_header[64:68]\t,\tnumtype='float' )\t \n",
    "intent_code \t= parseBytes( file_header[68:70]\t,\tnumtype='short' )\t \n",
    "datatype \t\t= parseBytes( file_header[70:72]\t,\tnumtype='short' )\t \n",
    "bitpix \t\t\t= parseBytes( file_header[72:74]\t,\tnumtype='short' )\t \n",
    "slice_start \t= parseBytes( file_header[74:76]\t,\tnumtype='short' )\t \n",
    "pixdim\t\t\t= parseBytes( file_header[76:108]\t,\tnumtype='float' )\t  \n",
    "vox_offset \t\t= parseBytes( file_header[108:112]\t,\tnumtype='float' )\t \n",
    "scl_slope \t\t= parseBytes( file_header[112:116]\t,\tnumtype='float' )\t \n",
    "scl_inter \t\t= parseBytes( file_header[116:120]\t,\tnumtype='float' )\t \n",
    "slice_end \t\t= parseBytes( file_header[120:122]\t,\tnumtype='short' )\t \n",
    "slice_code \t\t= parseBytes( file_header[122:123]\t,\tnumtype='char'\t)\t \n",
    "xyzt_units \t\t= parseBytes( file_header[123:124]\t,\tnumtype='char'\t)\t \n",
    "cal_max \t\t= parseBytes( file_header[124:128]\t,\tnumtype='float' )\t  \n",
    "cal_min \t\t= parseBytes( file_header[128:132]\t,\tnumtype='float' )\t  \n",
    "slice_duration\t= parseBytes( file_header[132:136]\t,\tnumtype='float' )\t  \n",
    "toffset \t\t= parseBytes( file_header[136:140]\t,\tnumtype='float' )\t \n",
    "glmax\t\t\t= parseBytes( file_header[140:144]\t,\tnumtype='int'\t)\t \n",
    "glmin \t\t\t= parseBytes( file_header[144:148]\t,\tnumtype='int'\t)\t \n",
    "descrip \t\t= parseBytes( file_header[148:228]\t,\tnumtype='char'\t)\t  \n",
    "aux_file\t\t= parseBytes( file_header[228:252]\t,\tnumtype='char'\t)\t  \n",
    "qform_code \t\t= parseBytes( file_header[252:254]\t,\tnumtype='short' )\t \n",
    "sform_code \t\t= parseBytes( file_header[254:256]\t,\tnumtype='short' )\t \n",
    "quatern_b \t\t= parseBytes( file_header[256:260]\t,\tnumtype='float' )\t  \n",
    "quatern_c \t\t= parseBytes( file_header[260:264]\t,\tnumtype='float' )\t  \n",
    "quatern_d \t\t= parseBytes( file_header[264:268]\t,\tnumtype='float' )\t  \n",
    "qoffset_x \t\t= parseBytes( file_header[268:272]\t,\tnumtype='float' )\t \n",
    "qoffset_y \t\t= parseBytes( file_header[272:276]\t,\tnumtype='float' )\t \n",
    "qoffset_z \t\t= parseBytes( file_header[276:280]\t,\tnumtype='float' )\t \n",
    "srow_x\t\t\t= parseBytes( file_header[280:296]\t,\tnumtype='float' )\t  \n",
    "srow_y\t\t\t= parseBytes( file_header[296:312]\t,\tnumtype='float' )\t  \n",
    "srow_z\t\t\t= parseBytes( file_header[312:328]\t,\tnumtype='float' )\t  \n",
    "intent_name\t\t= parseBytes( file_header[328:344]\t,\tnumtype='char'\t)\t  \n",
    "magic\t\t\t= parseBytes( file_header[344:348]\t,\tnumtype='char' \t)"
   ]
  },
  {
   "cell_type": "markdown",
   "metadata": {},
   "source": [
    "## Convert data to more useful form"
   ]
  },
  {
   "cell_type": "code",
   "execution_count": 24,
   "metadata": {},
   "outputs": [],
   "source": [
    "# view description as string\n",
    "descrip_text=bytearray(descrip).decode('utf-8')\n",
    "\n",
    "# view diminfo as binary \n",
    "vbin = numpy.vectorize(bin)\n",
    "diminfo_bin=vbin(dim_info.astype(numpy.int32))\n",
    "\n",
    "# view magic as hex\n",
    "vhex = numpy.vectorize(hex)\n",
    "magic_hex=vhex(magic.astype(numpy.int32))\n",
    "\n"
   ]
  },
  {
   "cell_type": "code",
   "execution_count": 25,
   "metadata": {},
   "outputs": [
    {
     "data": {
      "text/plain": [
       "array(['0x6e', '0x2b', '0x31', '0x0'], dtype='<U4')"
      ]
     },
     "execution_count": 25,
     "metadata": {},
     "output_type": "execute_result"
    }
   ],
   "source": [
    "magic_hex"
   ]
  },
  {
   "cell_type": "markdown",
   "metadata": {},
   "source": [
    "## Read Nifti-2 file"
   ]
  },
  {
   "cell_type": "code",
   "execution_count": 38,
   "metadata": {},
   "outputs": [],
   "source": [
    "IMAGE='/home/chidi/repos/CFN/DATA/MNINonLinear/100307.sulc.164k_fs_LR.dscalar.nii'"
   ]
  },
  {
   "cell_type": "code",
   "execution_count": 39,
   "metadata": {},
   "outputs": [],
   "source": [
    "f= open(IMAGE, 'rb')\n",
    "file_header= f.read(540)\n",
    "f.close()"
   ]
  },
  {
   "cell_type": "code",
   "execution_count": 40,
   "metadata": {},
   "outputs": [],
   "source": [
    "sizeof_hdr \t\t= parseBytes(file_header[0:4],numtype=  'int')\n",
    "magic \t        = parseBytes(file_header[4:12],numtype=    'char') \t\t\n",
    "data_type \t\t= parseBytes(file_header[12:14],numtype=  'short')\n",
    "bitpix \t\t\t= parseBytes(file_header[14:16],numtype=  'short')\n",
    "dim \t\t\t= parseBytes(file_header[16:80],numtype=  'int64')\n",
    "intent_p1 \t\t= parseBytes(file_header[80:88],numtype=  'double') \n",
    "intent_p2 \t\t= parseBytes(file_header[88:96],numtype=  'double' )\n",
    "intent_p3 \t\t= parseBytes(file_header[96:104],numtype=    'double') \t\n",
    "pixdim \t\t\t= parseBytes(file_header[104:168],numtype=    'double')  \t\n",
    "vox_offset \t\t= parseBytes(file_header[168:176],numtype=    'int64') \t\n",
    "scl_slope \t\t= parseBytes(file_header[176:184],numtype=  'double' ) \t\n",
    "scl_inter \t\t= parseBytes(file_header[184:192],numtype=  'double' ) \t\n",
    "cal_max \t\t= parseBytes(file_header[192:200],numtype=  'double' ) \t\n",
    "cal_min \t\t= parseBytes(file_header[200:208],numtype=  'double' ) \t\n",
    "slice_duration \t= parseBytes(file_header[208:216],numtype=  'double' ) \t\n",
    "toffset \t\t= parseBytes(file_header[216:224],numtype=  'double' ) \t\n",
    "slice_start \t= parseBytes(file_header[224:232],numtype=  'int64' )\t\n",
    "slice_end \t\t= parseBytes(file_header[232:240],numtype=  'int64') \t\n",
    "descrip \t\t= parseBytes(file_header[240:320],numtype=  'char' )\t \t\n",
    "aux_file \t\t= parseBytes(file_header[320:344],numtype=  'char' )\t \t\n",
    "qform_code \t\t= parseBytes(file_header[344:348],numtype=  'int' )\t\t\n",
    "sform_code \t\t= parseBytes(file_header[348:352],numtype=  'int' )\t\t\t\n",
    "quatern_b \t\t= parseBytes(file_header[352:360],numtype=  'double') \t\n",
    "quatern_c \t\t= parseBytes(file_header[360:368],numtype=  'double') \t\t\n",
    "quatern_d \t\t= parseBytes(file_header[368:376],numtype=  'double') \t\n",
    "qoffset_x \t\t= parseBytes(file_header[376:384],numtype=  'double') \t\t\n",
    "qoffset_y \t\t= parseBytes(file_header[384:392],numtype=  'double') \n",
    "qoffset_z \t\t= parseBytes(file_header[392:400],numtype=  'double') \t\n",
    "srow_x \t\t\t= parseBytes(file_header[400:432],numtype=  'double') \t\n",
    "srow_y \t\t\t= parseBytes(file_header[432:464],numtype=  'double') \t\n",
    "srow_z \t\t\t= parseBytes(file_header[464:496],numtype=  'double') \t\n",
    "slice_code \t\t= parseBytes(file_header[496:500],numtype=  'int' )\t\n",
    "xyzt_units \t\t= parseBytes(file_header[500:504],numtype=  'int' )\t\t\n",
    "intent_code \t= parseBytes(file_header[504:508],numtype=  'int' )\t\t\t\n",
    "intent_name \t= parseBytes(file_header[508:524],numtype=  'char') \t \t\n",
    "dim_info \t\t= parseBytes(file_header[524:525],numtype=  'char') \t\t\t\n",
    "unused_str\t \t= parseBytes(file_header[525:540],numtype=  'char') "
   ]
  },
  {
   "cell_type": "code",
   "execution_count": 44,
   "metadata": {},
   "outputs": [
    {
     "name": "stdout",
     "output_type": "stream",
     "text": [
      "ConnDenseScalar\u0000\n",
      "[     6      1      1      1      1      1 327684      1]\n",
      "[0. 1. 1. 1. 1. 1. 1. 1.]\n",
      "['0x6e' '0x2b' '0x32' '0x0' '0xd' '0xa' '0x1a' '0xa']\n"
     ]
    }
   ],
   "source": [
    "# view description as string\n",
    "intent_text=bytearray(intent_name).decode('utf-8')\n",
    "print(intent_text)\n",
    "\n",
    "# view dims\n",
    "print(dim)\n",
    "print(pixdim)\n",
    "\n",
    "# view magic as hex\n",
    "vhex = numpy.vectorize(hex)\n",
    "magic_hex=vhex(magic.astype(numpy.int32))\n",
    "print(magic_hex)"
   ]
  },
  {
   "cell_type": "code",
   "execution_count": null,
   "metadata": {},
   "outputs": [],
   "source": []
  }
 ],
 "metadata": {
  "kernelspec": {
   "display_name": "Python 3",
   "language": "python",
   "name": "python3"
  },
  "language_info": {
   "codemirror_mode": {
    "name": "ipython",
    "version": 3
   },
   "file_extension": ".py",
   "mimetype": "text/x-python",
   "name": "python",
   "nbconvert_exporter": "python",
   "pygments_lexer": "ipython3",
   "version": "3.8.3"
  }
 },
 "nbformat": 4,
 "nbformat_minor": 4
}
